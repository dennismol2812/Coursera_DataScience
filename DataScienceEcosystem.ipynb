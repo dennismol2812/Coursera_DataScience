{
 "cells": [
  {
   "cell_type": "markdown",
   "id": "c68b666b-c487-4edf-94d7-10a5cedd7095",
   "metadata": {},
   "source": [
    "# Data Science Tools and Ecosystem"
   ]
  },
  {
   "cell_type": "markdown",
   "id": "3cc06425-bfc5-4dab-9a82-73479a069130",
   "metadata": {},
   "source": [
    "In this notebook, Data Science Tools and Ecosystem are summarized."
   ]
  },
  {
   "cell_type": "markdown",
   "id": "4d9d95c9-910d-4a0b-99fa-464c25c6b897",
   "metadata": {},
   "source": [
    "Some of the popular languages that Data Scientists use are:\n",
    "1. Python\n",
    "2. R\n",
    "3. SQL"
   ]
  },
  {
   "cell_type": "markdown",
   "id": "e214bbf1-bcef-4674-a44d-031883460185",
   "metadata": {},
   "source": [
    "Some of the commonly used libraries used by Data Scientists include:\n",
    "1. Matplotlib\n",
    "2. Pandas\n",
    "3. TensorFlow"
   ]
  },
  {
   "cell_type": "markdown",
   "id": "0628b53c-5837-4bf3-b54b-154bd8570d20",
   "metadata": {},
   "source": [
    "| Data Science Tools |\n",
    "| ------- |\n",
    "| Spyder |\n",
    "| Visual Studio Code |\n",
    "| Jupyter Lab |"
   ]
  },
  {
   "cell_type": "markdown",
   "id": "bae01b86-9536-4c21-9b7f-a550d409f0d6",
   "metadata": {},
   "source": [
    "### Below are a few examples of evaluating arithmetic expressions in Python"
   ]
  },
  {
   "cell_type": "markdown",
   "id": "3410b02f-7c0e-45b2-915d-f09f166b1f57",
   "metadata": {},
   "source": [
    "This a simple arithmetic expression to mutiply then add integers."
   ]
  },
  {
   "cell_type": "code",
   "execution_count": 2,
   "id": "20dbc153-b71e-4cba-99ac-7e0c87a1a80f",
   "metadata": {},
   "outputs": [
    {
     "data": {
      "text/plain": [
       "17"
      ]
     },
     "execution_count": 2,
     "metadata": {},
     "output_type": "execute_result"
    }
   ],
   "source": [
    "(3*4)+5"
   ]
  },
  {
   "cell_type": "markdown",
   "id": "0780da50-7770-4f10-a46c-79cd6aedf945",
   "metadata": {},
   "source": [
    "This will convert 200 minutes to hours by diving by 60."
   ]
  },
  {
   "cell_type": "code",
   "execution_count": 6,
   "id": "c1804ca2-f60b-448a-9aa0-4d83c170b2fe",
   "metadata": {},
   "outputs": [
    {
     "name": "stdout",
     "output_type": "stream",
     "text": [
      "3.3333333333333335 hours\n"
     ]
    }
   ],
   "source": [
    "min = 200\n",
    "h = min/60\n",
    "print(h, \"hours\")"
   ]
  },
  {
   "cell_type": "markdown",
   "id": "a2ef4ac5-91bb-49d4-b814-99741488d914",
   "metadata": {},
   "source": [
    "**Objectives:**\n",
    "* Arithmetic Expressions\n",
    "* Create markdown cell\n",
    "* list open source IDEs for data science"
   ]
  },
  {
   "cell_type": "markdown",
   "id": "4021d8b4-a5d3-43c7-886e-7bc9a977e54c",
   "metadata": {},
   "source": [
    "## Author\n",
    "Dennis Mehley"
   ]
  },
  {
   "cell_type": "code",
   "execution_count": null,
   "id": "b281096f-3836-4576-b31a-897069e58f7a",
   "metadata": {},
   "outputs": [],
   "source": []
  }
 ],
 "metadata": {
  "kernelspec": {
   "display_name": "Python 3 (ipykernel)",
   "language": "python",
   "name": "python3"
  },
  "language_info": {
   "codemirror_mode": {
    "name": "ipython",
    "version": 3
   },
   "file_extension": ".py",
   "mimetype": "text/x-python",
   "name": "python",
   "nbconvert_exporter": "python",
   "pygments_lexer": "ipython3",
   "version": "3.9.4"
  }
 },
 "nbformat": 4,
 "nbformat_minor": 5
}
